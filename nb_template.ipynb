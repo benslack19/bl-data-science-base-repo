{
 "cells": [
  {
   "cell_type": "markdown",
   "id": "ee7a2ed2-35b5-424f-8e02-ace1b5c77e8a",
   "metadata": {},
   "source": [
    "# Title of project\n",
    "\n",
    "The purpose of this notebook is to provide a template for data science use cases, primarily for exploration and self-education."
   ]
  },
  {
   "cell_type": "code",
   "execution_count": 1,
   "id": "75f5008c-3437-488e-ab9c-133ba6a8f3b4",
   "metadata": {},
   "outputs": [],
   "source": [
    "from pathlib import Path\n",
    "import pandas as pd\n",
    "import numpy as np\n",
    "import matplotlib.pyplot as plt\n",
    "from ydata_profiling import ProfileReport\n",
    "import seaborn"
   ]
  },
  {
   "cell_type": "markdown",
   "id": "830102f0-3846-4fc1-a4e4-d0e99fef9aec",
   "metadata": {},
   "source": [
    "# Explore and visualize data"
   ]
  },
  {
   "cell_type": "code",
   "execution_count": 4,
   "id": "d647978e-e980-4333-887e-bccea883eddd",
   "metadata": {},
   "outputs": [
    {
     "data": {
      "text/html": [
       "<div>\n",
       "<style scoped>\n",
       "    .dataframe tbody tr th:only-of-type {\n",
       "        vertical-align: middle;\n",
       "    }\n",
       "\n",
       "    .dataframe tbody tr th {\n",
       "        vertical-align: top;\n",
       "    }\n",
       "\n",
       "    .dataframe thead th {\n",
       "        text-align: right;\n",
       "    }\n",
       "</style>\n",
       "<table border=\"1\" class=\"dataframe\">\n",
       "  <thead>\n",
       "    <tr style=\"text-align: right;\">\n",
       "      <th></th>\n",
       "      <th>a</th>\n",
       "      <th>b</th>\n",
       "      <th>c</th>\n",
       "      <th>d</th>\n",
       "      <th>e</th>\n",
       "    </tr>\n",
       "  </thead>\n",
       "  <tbody>\n",
       "    <tr>\n",
       "      <th>0</th>\n",
       "      <td>0.381746</td>\n",
       "      <td>0.858600</td>\n",
       "      <td>0.480602</td>\n",
       "      <td>0.220168</td>\n",
       "      <td>0.890007</td>\n",
       "    </tr>\n",
       "    <tr>\n",
       "      <th>1</th>\n",
       "      <td>0.782627</td>\n",
       "      <td>0.691319</td>\n",
       "      <td>0.125204</td>\n",
       "      <td>0.646212</td>\n",
       "      <td>0.018627</td>\n",
       "    </tr>\n",
       "    <tr>\n",
       "      <th>2</th>\n",
       "      <td>0.552427</td>\n",
       "      <td>0.885564</td>\n",
       "      <td>0.660191</td>\n",
       "      <td>0.523789</td>\n",
       "      <td>0.426716</td>\n",
       "    </tr>\n",
       "    <tr>\n",
       "      <th>3</th>\n",
       "      <td>0.028381</td>\n",
       "      <td>0.300091</td>\n",
       "      <td>0.168930</td>\n",
       "      <td>0.371087</td>\n",
       "      <td>0.872667</td>\n",
       "    </tr>\n",
       "    <tr>\n",
       "      <th>4</th>\n",
       "      <td>0.556261</td>\n",
       "      <td>0.618107</td>\n",
       "      <td>0.709087</td>\n",
       "      <td>0.474098</td>\n",
       "      <td>0.341080</td>\n",
       "    </tr>\n",
       "  </tbody>\n",
       "</table>\n",
       "</div>"
      ],
      "text/plain": [
       "          a         b         c         d         e\n",
       "0  0.381746  0.858600  0.480602  0.220168  0.890007\n",
       "1  0.782627  0.691319  0.125204  0.646212  0.018627\n",
       "2  0.552427  0.885564  0.660191  0.523789  0.426716\n",
       "3  0.028381  0.300091  0.168930  0.371087  0.872667\n",
       "4  0.556261  0.618107  0.709087  0.474098  0.341080"
      ]
     },
     "execution_count": 4,
     "metadata": {},
     "output_type": "execute_result"
    }
   ],
   "source": [
    "\n",
    "\n",
    "# edit path\n",
    "# df = pd.read_csv(Path\n",
    "df = pd.DataFrame(np.random.rand(100, 5), columns=[\"a\", \"b\", \"c\", \"d\", \"e\"])\n",
    "df.head()"
   ]
  },
  {
   "cell_type": "code",
   "execution_count": null,
   "id": "b8d20dfb-9875-4ce8-b82c-3d277a122b24",
   "metadata": {},
   "outputs": [],
   "source": [
    "df.to_csv('example_data.csv')"
   ]
  },
  {
   "cell_type": "code",
   "execution_count": null,
   "id": "dc3299bb-3fb5-4bf4-b7e4-ac4fa4b93c4e",
   "metadata": {},
   "outputs": [],
   "source": [
    "# mport data\n",
    "\n",
    "# Explor data\n",
    "\n"
   ]
  },
  {
   "cell_type": "markdown",
   "id": "41b58f94-e074-4d1a-936b-8d0601dd8ee8",
   "metadata": {},
   "source": [
    "# Visualize data"
   ]
  },
  {
   "cell_type": "code",
   "execution_count": null,
   "id": "c8c47a95-abc2-4181-827c-dee64b795bda",
   "metadata": {},
   "outputs": [],
   "source": []
  }
 ],
 "metadata": {
  "kernelspec": {
   "display_name": "Python 3 (ipykernel)",
   "language": "python",
   "name": "python3"
  },
  "language_info": {
   "codemirror_mode": {
    "name": "ipython",
    "version": 3
   },
   "file_extension": ".py",
   "mimetype": "text/x-python",
   "name": "python",
   "nbconvert_exporter": "python",
   "pygments_lexer": "ipython3",
   "version": "3.10.15"
  }
 },
 "nbformat": 4,
 "nbformat_minor": 5
}
