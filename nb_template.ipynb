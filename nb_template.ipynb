{
 "cells": [
  {
   "cell_type": "markdown",
   "id": "ee7a2ed2-35b5-424f-8e02-ace1b5c77e8a",
   "metadata": {},
   "source": [
    "# Title of project\n",
    "\n",
    "The purpose of this notebook is to provide a template for data science use cases, primarily for exploration and self-education."
   ]
  },
  {
   "cell_type": "code",
   "execution_count": null,
   "id": "d502ea14-888b-4b4c-8561-3d81e89a48e7",
   "metadata": {},
   "outputs": [],
   "source": [
    "\n"
   ]
  },
  {
   "cell_type": "code",
   "execution_count": 10,
   "id": "75f5008c-3437-488e-ab9c-133ba6a8f3b4",
   "metadata": {},
   "outputs": [],
   "source": [
    "# from ydata_profiling import ProfileReport\n",
    "from pathlib import Path\n",
    "\n",
    "import numpy as np\n",
    "import pandas as pd\n",
    "import seaborn as sns"
   ]
  },
  {
   "cell_type": "code",
   "execution_count": 11,
   "id": "48e74cd5-e597-432a-acd4-1c032f296fdb",
   "metadata": {},
   "outputs": [],
   "source": [
    "rng = np.random.default_rng(12345)\n",
    "sns.set_context(\"talk\")\n",
    "sns.set_palette(\"colorblind\")"
   ]
  },
  {
   "cell_type": "markdown",
   "id": "830102f0-3846-4fc1-a4e4-d0e99fef9aec",
   "metadata": {},
   "source": [
    "# Explore and visualize data"
   ]
  },
  {
   "cell_type": "code",
   "execution_count": null,
   "id": "b3c29719-84bc-4faf-86fe-ee30464011e5",
   "metadata": {},
   "outputs": [],
   "source": []
  },
  {
   "cell_type": "code",
   "execution_count": null,
   "id": "6ff78d92-a6e3-452b-85cd-91f230e1f104",
   "metadata": {},
   "outputs": [],
   "source": []
  },
  {
   "cell_type": "code",
   "execution_count": 26,
   "id": "d647978e-e980-4333-887e-bccea883eddd",
   "metadata": {},
   "outputs": [
    {
     "name": "stdout",
     "output_type": "stream",
     "text": [
      "(100, 7)\n"
     ]
    },
    {
     "data": {
      "text/html": [
       "<div>\n",
       "<style scoped>\n",
       "    .dataframe tbody tr th:only-of-type {\n",
       "        vertical-align: middle;\n",
       "    }\n",
       "\n",
       "    .dataframe tbody tr th {\n",
       "        vertical-align: top;\n",
       "    }\n",
       "\n",
       "    .dataframe thead th {\n",
       "        text-align: right;\n",
       "    }\n",
       "</style>\n",
       "<table border=\"1\" class=\"dataframe\">\n",
       "  <thead>\n",
       "    <tr style=\"text-align: right;\">\n",
       "      <th></th>\n",
       "      <th>a</th>\n",
       "      <th>b</th>\n",
       "      <th>c</th>\n",
       "      <th>d</th>\n",
       "      <th>e</th>\n",
       "      <th>f_ordinal</th>\n",
       "      <th>g_binary</th>\n",
       "    </tr>\n",
       "  </thead>\n",
       "  <tbody>\n",
       "    <tr>\n",
       "      <th>0</th>\n",
       "      <td>0.912145</td>\n",
       "      <td>0.267538</td>\n",
       "      <td>0.324283</td>\n",
       "      <td>0.641630</td>\n",
       "      <td>0.915877</td>\n",
       "      <td>0</td>\n",
       "      <td>False</td>\n",
       "    </tr>\n",
       "    <tr>\n",
       "      <th>1</th>\n",
       "      <td>0.065965</td>\n",
       "      <td>0.468238</td>\n",
       "      <td>0.810953</td>\n",
       "      <td>0.496197</td>\n",
       "      <td>0.601386</td>\n",
       "      <td>2</td>\n",
       "      <td>True</td>\n",
       "    </tr>\n",
       "    <tr>\n",
       "      <th>2</th>\n",
       "      <td>0.714942</td>\n",
       "      <td>0.627985</td>\n",
       "      <td>0.014323</td>\n",
       "      <td>0.889148</td>\n",
       "      <td>0.244947</td>\n",
       "      <td>3</td>\n",
       "      <td>True</td>\n",
       "    </tr>\n",
       "    <tr>\n",
       "      <th>3</th>\n",
       "      <td>0.428069</td>\n",
       "      <td>0.844190</td>\n",
       "      <td>0.350201</td>\n",
       "      <td>0.437155</td>\n",
       "      <td>0.606504</td>\n",
       "      <td>3</td>\n",
       "      <td>False</td>\n",
       "    </tr>\n",
       "    <tr>\n",
       "      <th>4</th>\n",
       "      <td>0.350349</td>\n",
       "      <td>0.278180</td>\n",
       "      <td>0.521368</td>\n",
       "      <td>0.178840</td>\n",
       "      <td>0.395493</td>\n",
       "      <td>3</td>\n",
       "      <td>False</td>\n",
       "    </tr>\n",
       "  </tbody>\n",
       "</table>\n",
       "</div>"
      ],
      "text/plain": [
       "          a         b         c         d         e  f_ordinal  g_binary\n",
       "0  0.912145  0.267538  0.324283  0.641630  0.915877          0     False\n",
       "1  0.065965  0.468238  0.810953  0.496197  0.601386          2      True\n",
       "2  0.714942  0.627985  0.014323  0.889148  0.244947          3      True\n",
       "3  0.428069  0.844190  0.350201  0.437155  0.606504          3     False\n",
       "4  0.350349  0.278180  0.521368  0.178840  0.395493          3     False"
      ]
     },
     "execution_count": 26,
     "metadata": {},
     "output_type": "execute_result"
    }
   ],
   "source": [
    "# df with continuous, ordinal, and binary variables\n",
    "nrows, ncols = 100, 5\n",
    "df_example = pd.DataFrame(\n",
    "    rng.random((nrows, ncols)), columns=[\"a\", \"b\", \"c\", \"d\", \"e\"]\n",
    ").assign(\n",
    "    f_ordinal=rng.choice([0, 1, 2, 3], nrows), g_binary=rng.choice([True, False], nrows)\n",
    ")\n",
    "\n",
    "\n",
    "# Edit to read a saved file\n",
    "# df_example = pd.read_csv(Path('data', 'example_data.csv'))\n",
    "\n",
    "print(df_example.shape)\n",
    "df_example.head()"
   ]
  },
  {
   "cell_type": "code",
   "execution_count": 18,
   "id": "b8d20dfb-9875-4ce8-b82c-3d277a122b24",
   "metadata": {},
   "outputs": [],
   "source": [
    "# save data\n",
    "df_example.to_csv(Path(\"data\", \"example_data.csv\"), index=False)"
   ]
  },
  {
   "cell_type": "code",
   "execution_count": null,
   "id": "260d8d27-9561-4468-9c66-8e5abf5a7324",
   "metadata": {},
   "outputs": [],
   "source": []
  },
  {
   "cell_type": "code",
   "execution_count": null,
   "id": "23e9695c-6ee0-4541-865b-2503e4c174c2",
   "metadata": {},
   "outputs": [],
   "source": [
    "# use pandas profiling for fast exploration\n",
    "# profile = ProfileReport(df_example, title=\"Profiling Report\")"
   ]
  },
  {
   "cell_type": "markdown",
   "id": "41b58f94-e074-4d1a-936b-8d0601dd8ee8",
   "metadata": {},
   "source": [
    "# Visualize data"
   ]
  },
  {
   "cell_type": "code",
   "execution_count": null,
   "id": "c8c47a95-abc2-4181-827c-dee64b795bda",
   "metadata": {},
   "outputs": [],
   "source": []
  }
 ],
 "metadata": {
  "kernelspec": {
   "display_name": "Python 3 (ipykernel)",
   "language": "python",
   "name": "python3"
  },
  "language_info": {
   "codemirror_mode": {
    "name": "ipython",
    "version": 3
   },
   "file_extension": ".py",
   "mimetype": "text/x-python",
   "name": "python",
   "nbconvert_exporter": "python",
   "pygments_lexer": "ipython3",
   "version": "3.10.15"
  }
 },
 "nbformat": 4,
 "nbformat_minor": 5
}
