{
 "cells": [
  {
   "cell_type": "markdown",
   "id": "ee7a2ed2-35b5-424f-8e02-ace1b5c77e8a",
   "metadata": {},
   "source": [
    "# Title of project\n",
    "\n",
    "The purpose of this notebook is to provide a template for data science use cases, primarily for exploration and self-education."
   ]
  },
  {
   "cell_type": "code",
   "execution_count": 86,
   "id": "75f5008c-3437-488e-ab9c-133ba6a8f3b4",
   "metadata": {},
   "outputs": [],
   "source": [
    "from pathlib import Path\n",
    "\n",
    "import matplotlib.pyplot as plt\n",
    "import numpy as np\n",
    "import pandas as pd\n",
    "import seaborn as sns\n",
    "from ydata_profiling import ProfileReport"
   ]
  },
  {
   "cell_type": "code",
   "execution_count": 91,
   "id": "48e74cd5-e597-432a-acd4-1c032f296fdb",
   "metadata": {},
   "outputs": [],
   "source": [
    "%matplotlib inline\n",
    "rng = np.random.default_rng(12345)\n",
    "sns.set_context(\"talk\")\n",
    "sns.set_palette(\"colorblind\")"
   ]
  },
  {
   "cell_type": "markdown",
   "id": "830102f0-3846-4fc1-a4e4-d0e99fef9aec",
   "metadata": {},
   "source": [
    "# Explore and visualize data"
   ]
  },
  {
   "cell_type": "code",
   "execution_count": 79,
   "id": "d647978e-e980-4333-887e-bccea883eddd",
   "metadata": {},
   "outputs": [
    {
     "name": "stdout",
     "output_type": "stream",
     "text": [
      "(100, 7)\n"
     ]
    },
    {
     "data": {
      "text/html": [
       "<div>\n",
       "<style scoped>\n",
       "    .dataframe tbody tr th:only-of-type {\n",
       "        vertical-align: middle;\n",
       "    }\n",
       "\n",
       "    .dataframe tbody tr th {\n",
       "        vertical-align: top;\n",
       "    }\n",
       "\n",
       "    .dataframe thead th {\n",
       "        text-align: right;\n",
       "    }\n",
       "</style>\n",
       "<table border=\"1\" class=\"dataframe\">\n",
       "  <thead>\n",
       "    <tr style=\"text-align: right;\">\n",
       "      <th></th>\n",
       "      <th>a</th>\n",
       "      <th>b</th>\n",
       "      <th>c</th>\n",
       "      <th>d</th>\n",
       "      <th>e</th>\n",
       "      <th>f_ordinal</th>\n",
       "      <th>g_binary</th>\n",
       "    </tr>\n",
       "  </thead>\n",
       "  <tbody>\n",
       "    <tr>\n",
       "      <th>0</th>\n",
       "      <td>0.788203</td>\n",
       "      <td>0.875154</td>\n",
       "      <td>0.086287</td>\n",
       "      <td>0.738884</td>\n",
       "      <td>0.414377</td>\n",
       "      <td>0.0</td>\n",
       "      <td>False</td>\n",
       "    </tr>\n",
       "    <tr>\n",
       "      <th>1</th>\n",
       "      <td>0.947698</td>\n",
       "      <td>0.895206</td>\n",
       "      <td>0.386260</td>\n",
       "      <td>NaN</td>\n",
       "      <td>0.091287</td>\n",
       "      <td>2.0</td>\n",
       "      <td>True</td>\n",
       "    </tr>\n",
       "    <tr>\n",
       "      <th>2</th>\n",
       "      <td>0.094231</td>\n",
       "      <td>0.726509</td>\n",
       "      <td>0.854921</td>\n",
       "      <td>0.209119</td>\n",
       "      <td>0.242741</td>\n",
       "      <td>2.0</td>\n",
       "      <td>True</td>\n",
       "    </tr>\n",
       "    <tr>\n",
       "      <th>3</th>\n",
       "      <td>0.448401</td>\n",
       "      <td>0.417128</td>\n",
       "      <td>0.412871</td>\n",
       "      <td>0.495933</td>\n",
       "      <td>0.695338</td>\n",
       "      <td>NaN</td>\n",
       "      <td>False</td>\n",
       "    </tr>\n",
       "    <tr>\n",
       "      <th>4</th>\n",
       "      <td>NaN</td>\n",
       "      <td>0.054594</td>\n",
       "      <td>0.370414</td>\n",
       "      <td>0.615936</td>\n",
       "      <td>0.232996</td>\n",
       "      <td>0.0</td>\n",
       "      <td>True</td>\n",
       "    </tr>\n",
       "  </tbody>\n",
       "</table>\n",
       "</div>"
      ],
      "text/plain": [
       "          a         b         c         d         e  f_ordinal g_binary\n",
       "0  0.788203  0.875154  0.086287  0.738884  0.414377        0.0    False\n",
       "1  0.947698  0.895206  0.386260       NaN  0.091287        2.0     True\n",
       "2  0.094231  0.726509  0.854921  0.209119  0.242741        2.0     True\n",
       "3  0.448401  0.417128  0.412871  0.495933  0.695338        NaN    False\n",
       "4       NaN  0.054594  0.370414  0.615936  0.232996        0.0     True"
      ]
     },
     "execution_count": 79,
     "metadata": {},
     "output_type": "execute_result"
    }
   ],
   "source": [
    "# Generate a df with continuous, ordinal, and binary variables\n",
    "nrows, ncols = 100, 5\n",
    "df_example = pd.DataFrame(\n",
    "    rng.random((nrows, ncols)), columns=[\"a\", \"b\", \"c\", \"d\", \"e\"]\n",
    ").assign(\n",
    "    f_ordinal=rng.choice([0, 1, 2, 3], nrows), g_binary=rng.choice([True, False], nrows)\n",
    ")\n",
    "\n",
    "# randomly set missing values to 10% of them to make it more challenging/realistic\n",
    "bool_mask_mv = rng.choice([True, False], df_example.shape, p=[0.1, 0.9])\n",
    "df_example = df_example.mask(bool_mask_mv)\n",
    "\n",
    "# Export and import data -------\n",
    "# save data\n",
    "# df_example.to_csv(Path(\"data\", \"example_data.csv\"), index=False)\n",
    "\n",
    "# edit to read a saved file\n",
    "# df_example = pd.read_csv(Path('data', 'example_data.csv'))\n",
    "\n",
    "print(df_example.shape)\n",
    "df_example.head()"
   ]
  },
  {
   "cell_type": "code",
   "execution_count": 95,
   "id": "584d0178-b538-4d61-a28f-02fe6854b8dd",
   "metadata": {},
   "outputs": [
    {
     "name": "stdout",
     "output_type": "stream",
     "text": [
      "<class 'pandas.core.frame.DataFrame'>\n",
      "RangeIndex: 100 entries, 0 to 99\n",
      "Data columns (total 7 columns):\n",
      " #   Column     Non-Null Count  Dtype  \n",
      "---  ------     --------------  -----  \n",
      " 0   a          93 non-null     float64\n",
      " 1   b          91 non-null     float64\n",
      " 2   c          89 non-null     float64\n",
      " 3   d          91 non-null     float64\n",
      " 4   e          92 non-null     float64\n",
      " 5   f_ordinal  91 non-null     float64\n",
      " 6   g_binary   85 non-null     object \n",
      "dtypes: float64(6), object(1)\n",
      "memory usage: 5.6+ KB\n"
     ]
    }
   ],
   "source": [
    "df_example.info()"
   ]
  },
  {
   "cell_type": "code",
   "execution_count": 10,
   "id": "23e9695c-6ee0-4541-865b-2503e4c174c2",
   "metadata": {},
   "outputs": [],
   "source": [
    "# use pandas profiling for fast exploration\n",
    "# profile = ProfileReport(df_example, title=\"Profiling Report\")\n",
    "# profile"
   ]
  },
  {
   "cell_type": "markdown",
   "id": "41b58f94-e074-4d1a-936b-8d0601dd8ee8",
   "metadata": {},
   "source": [
    "# Visualize data"
   ]
  },
  {
   "cell_type": "code",
   "execution_count": 97,
   "id": "9283b945-e6c4-48cf-b347-64a68957efec",
   "metadata": {},
   "outputs": [
    {
     "data": {
      "text/plain": [
       "<seaborn.axisgrid.FacetGrid at 0x148da5a50>"
      ]
     },
     "execution_count": 97,
     "metadata": {},
     "output_type": "execute_result"
    },
    {
     "data": {
      "image/png": "[encoded data removed]",
      "text/plain": [
       "<Figure size 1000x500 with 2 Axes>"
      ]
     },
     "metadata": {},
     "output_type": "display_data"
    }
   ],
   "source": [
    "g = sns.relplot(\n",
    "    data=df_example, x=\"a\", y=\"b\", col=\"g_binary\", kind=\"scatter\"\n",
    ")\n",
    "\n",
    "g"
   ]
  },
  {
   "cell_type": "code",
   "execution_count": 94,
   "id": "8c4d4aa3-42cb-4607-a187-0c19b1c208fb",
   "metadata": {},
   "outputs": [
    {
     "data": {
      "text/plain": [
       "<matplotlib.collections.PathCollection at 0x1481fd890>"
      ]
     },
     "execution_count": 94,
     "metadata": {},
     "output_type": "execute_result"
    },
    {
     "data": {
      "image/png": "[encoded data removed]",
      "text/plain": [
       "<Figure size 640x480 with 1 Axes>"
      ]
     },
     "metadata": {},
     "output_type": "display_data"
    }
   ],
   "source": [
    "plt.scatter(df_example[\"a\"], df_example[\"b\"])"
   ]
  },
  {
   "cell_type": "code",
   "execution_count": null,
   "id": "1c17eaf5-6d8f-4370-841f-81473311a508",
   "metadata": {},
   "outputs": [],
   "source": []
  },
  {
   "cell_type": "code",
   "execution_count": 87,
   "id": "ec9f1fc0-b787-4bc7-9a9b-2694cfa8a990",
   "metadata": {},
   "outputs": [
    {
     "name": "stderr",
     "output_type": "stream",
     "text": [
      "/var/folders/xy/ddmp8rj12qbcmtfqxt7rhc6c0000gn/T/ipykernel_84765/3849886470.py:2: UserWarning: FigureCanvasAgg is non-interactive, and thus cannot be shown\n",
      "  plt.show()\n"
     ]
    }
   ],
   "source": [
    "sns.scatterplot(df_example, x=\"a\", y=\"b\")\n",
    "plt.show()"
   ]
  },
  {
   "cell_type": "code",
   "execution_count": 46,
   "id": "d1a3fccb-d232-4036-a97b-684c2cbf370b",
   "metadata": {},
   "outputs": [
    {
     "data": {
      "text/html": [
       "<div>\n",
       "<style scoped>\n",
       "    .dataframe tbody tr th:only-of-type {\n",
       "        vertical-align: middle;\n",
       "    }\n",
       "\n",
       "    .dataframe tbody tr th {\n",
       "        vertical-align: top;\n",
       "    }\n",
       "\n",
       "    .dataframe thead th {\n",
       "        text-align: right;\n",
       "    }\n",
       "</style>\n",
       "<table border=\"1\" class=\"dataframe\">\n",
       "  <thead>\n",
       "    <tr style=\"text-align: right;\">\n",
       "      <th></th>\n",
       "      <th>A</th>\n",
       "      <th>B</th>\n",
       "      <th>C</th>\n",
       "    </tr>\n",
       "  </thead>\n",
       "  <tbody>\n",
       "    <tr>\n",
       "      <th>0</th>\n",
       "      <td>NaN</td>\n",
       "      <td>5.0</td>\n",
       "      <td>9.0</td>\n",
       "    </tr>\n",
       "    <tr>\n",
       "      <th>1</th>\n",
       "      <td>2.0</td>\n",
       "      <td>4.0</td>\n",
       "      <td>8.0</td>\n",
       "    </tr>\n",
       "    <tr>\n",
       "      <th>2</th>\n",
       "      <td>NaN</td>\n",
       "      <td>NaN</td>\n",
       "      <td>NaN</td>\n",
       "    </tr>\n",
       "    <tr>\n",
       "      <th>3</th>\n",
       "      <td>4.0</td>\n",
       "      <td>2.0</td>\n",
       "      <td>6.0</td>\n",
       "    </tr>\n",
       "    <tr>\n",
       "      <th>4</th>\n",
       "      <td>5.0</td>\n",
       "      <td>1.0</td>\n",
       "      <td>5.0</td>\n",
       "    </tr>\n",
       "  </tbody>\n",
       "</table>\n",
       "</div>"
      ],
      "text/plain": [
       "     A    B    C\n",
       "0  NaN  5.0  9.0\n",
       "1  2.0  4.0  8.0\n",
       "2  NaN  NaN  NaN\n",
       "3  4.0  2.0  6.0\n",
       "4  5.0  1.0  5.0"
      ]
     },
     "execution_count": 46,
     "metadata": {},
     "output_type": "execute_result"
    }
   ],
   "source": [
    "df[mask] = np.nan\n",
    "df"
   ]
  }
 ],
 "metadata": {
  "kernelspec": {
   "display_name": "Python 3 (ipykernel)",
   "language": "python",
   "name": "python3"
  },
  "language_info": {
   "codemirror_mode": {
    "name": "ipython",
    "version": 3
   },
   "file_extension": ".py",
   "mimetype": "text/x-python",
   "name": "python",
   "nbconvert_exporter": "python",
   "pygments_lexer": "ipython3",
   "version": "3.11.10"
  }
 },
 "nbformat": 4,
 "nbformat_minor": 5
}
