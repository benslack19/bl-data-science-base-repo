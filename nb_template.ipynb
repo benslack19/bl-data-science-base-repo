{
 "cells": [
  {
   "cell_type": "markdown",
   "id": "ee7a2ed2-35b5-424f-8e02-ace1b5c77e8a",
   "metadata": {},
   "source": [
    "# Title of project\n",
    "\n",
    "The purpose of this notebook is to provide a template for data science use cases, primarily for exploration and self-education."
   ]
  },
  {
   "cell_type": "code",
   "execution_count": 4,
   "id": "75f5008c-3437-488e-ab9c-133ba6a8f3b4",
   "metadata": {},
   "outputs": [],
   "source": [
    "from pathlib import Path\n",
    "\n",
    "import matplotlib.pyplot as plt\n",
    "import numpy as np\n",
    "import pandas as pd\n",
    "import seaborn as sns\n",
    "# from ydata_profiling import ProfileReport"
   ]
  },
  {
   "cell_type": "markdown",
   "id": "830102f0-3846-4fc1-a4e4-d0e99fef9aec",
   "metadata": {},
   "source": [
    "# Explore and visualize data"
   ]
  },
  {
   "cell_type": "code",
   "execution_count": 5,
   "id": "d647978e-e980-4333-887e-bccea883eddd",
   "metadata": {},
   "outputs": [
    {
     "name": "stdout",
     "output_type": "stream",
     "text": [
      "(100, 7)\n"
     ]
    },
    {
     "data": {
      "text/html": [
       "<div>\n",
       "<style scoped>\n",
       "    .dataframe tbody tr th:only-of-type {\n",
       "        vertical-align: middle;\n",
       "    }\n",
       "\n",
       "    .dataframe tbody tr th {\n",
       "        vertical-align: top;\n",
       "    }\n",
       "\n",
       "    .dataframe thead th {\n",
       "        text-align: right;\n",
       "    }\n",
       "</style>\n",
       "<table border=\"1\" class=\"dataframe\">\n",
       "  <thead>\n",
       "    <tr style=\"text-align: right;\">\n",
       "      <th></th>\n",
       "      <th>a</th>\n",
       "      <th>b</th>\n",
       "      <th>c</th>\n",
       "      <th>d</th>\n",
       "      <th>e</th>\n",
       "      <th>f_ordinal</th>\n",
       "      <th>g_binary</th>\n",
       "    </tr>\n",
       "  </thead>\n",
       "  <tbody>\n",
       "    <tr>\n",
       "      <th>0</th>\n",
       "      <td>0.076519</td>\n",
       "      <td>0.998244</td>\n",
       "      <td>0.810388</td>\n",
       "      <td>0.905953</td>\n",
       "      <td>0.406347</td>\n",
       "      <td>1</td>\n",
       "      <td>True</td>\n",
       "    </tr>\n",
       "    <tr>\n",
       "      <th>1</th>\n",
       "      <td>0.835179</td>\n",
       "      <td>0.549486</td>\n",
       "      <td>0.668846</td>\n",
       "      <td>0.646985</td>\n",
       "      <td>0.510977</td>\n",
       "      <td>0</td>\n",
       "      <td>False</td>\n",
       "    </tr>\n",
       "    <tr>\n",
       "      <th>2</th>\n",
       "      <td>0.561099</td>\n",
       "      <td>0.350395</td>\n",
       "      <td>0.669510</td>\n",
       "      <td>0.250361</td>\n",
       "      <td>0.323884</td>\n",
       "      <td>3</td>\n",
       "      <td>False</td>\n",
       "    </tr>\n",
       "    <tr>\n",
       "      <th>3</th>\n",
       "      <td>0.132926</td>\n",
       "      <td>0.039858</td>\n",
       "      <td>0.339954</td>\n",
       "      <td>0.906957</td>\n",
       "      <td>0.098823</td>\n",
       "      <td>3</td>\n",
       "      <td>False</td>\n",
       "    </tr>\n",
       "    <tr>\n",
       "      <th>4</th>\n",
       "      <td>0.803275</td>\n",
       "      <td>0.600003</td>\n",
       "      <td>0.141646</td>\n",
       "      <td>0.603885</td>\n",
       "      <td>0.311294</td>\n",
       "      <td>2</td>\n",
       "      <td>False</td>\n",
       "    </tr>\n",
       "  </tbody>\n",
       "</table>\n",
       "</div>"
      ],
      "text/plain": [
       "          a         b         c         d         e  f_ordinal  g_binary\n",
       "0  0.076519  0.998244  0.810388  0.905953  0.406347          1      True\n",
       "1  0.835179  0.549486  0.668846  0.646985  0.510977          0     False\n",
       "2  0.561099  0.350395  0.669510  0.250361  0.323884          3     False\n",
       "3  0.132926  0.039858  0.339954  0.906957  0.098823          3     False\n",
       "4  0.803275  0.600003  0.141646  0.603885  0.311294          2     False"
      ]
     },
     "execution_count": 5,
     "metadata": {},
     "output_type": "execute_result"
    }
   ],
   "source": [
    "# df with continuous, ordinal, and binary variables\n",
    "nrows, ncols = 100, 5\n",
    "df = pd.DataFrame(np.random.rand(nrows, ncols), columns=[\"a\", \"b\", \"c\", \"d\", \"e\"]).assign(f_ordinal=np.random.choice([0,1,2,3], nrows), g_binary=np.random.choice([True, False], nrows))\n",
    "\n",
    "\n",
    "# Edit to read a saved file\n",
    "# df = pd.read_csv(Path('data', 'example_data.csv'))\n",
    "\n",
    "print(df.shape)\n",
    "df.head()"
   ]
  },
  {
   "cell_type": "code",
   "execution_count": 6,
   "id": "b8d20dfb-9875-4ce8-b82c-3d277a122b24",
   "metadata": {},
   "outputs": [],
   "source": [
    "# save data\n",
    "df.to_csv(Path('data', 'example_data.csv'), index=False)"
   ]
  },
  {
   "cell_type": "code",
   "execution_count": null,
   "id": "260d8d27-9561-4468-9c66-8e5abf5a7324",
   "metadata": {},
   "outputs": [],
   "source": []
  },
  {
   "cell_type": "code",
   "execution_count": null,
   "id": "23e9695c-6ee0-4541-865b-2503e4c174c2",
   "metadata": {},
   "outputs": [],
   "source": [
    "# use pandas profiling for fast exploration\n",
    "# profile = ProfileReport(df, title=\"Profiling Report\")"
   ]
  },
  {
   "cell_type": "markdown",
   "id": "41b58f94-e074-4d1a-936b-8d0601dd8ee8",
   "metadata": {},
   "source": [
    "# Visualize data"
   ]
  },
  {
   "cell_type": "code",
   "execution_count": null,
   "id": "c8c47a95-abc2-4181-827c-dee64b795bda",
   "metadata": {},
   "outputs": [],
   "source": []
  }
 ],
 "metadata": {
  "kernelspec": {
   "display_name": "Python 3 (ipykernel)",
   "language": "python",
   "name": "python3"
  },
  "language_info": {
   "codemirror_mode": {
    "name": "ipython",
    "version": 3
   },
   "file_extension": ".py",
   "mimetype": "text/x-python",
   "name": "python",
   "nbconvert_exporter": "python",
   "pygments_lexer": "ipython3",
   "version": "3.10.15"
  }
 },
 "nbformat": 4,
 "nbformat_minor": 5
}
