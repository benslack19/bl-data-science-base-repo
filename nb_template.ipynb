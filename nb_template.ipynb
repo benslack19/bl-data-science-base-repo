{
 "cells": [
  {
   "cell_type": "markdown",
   "id": "ee7a2ed2-35b5-424f-8e02-ace1b5c77e8a",
   "metadata": {},
   "source": [
    "# Title of project\n",
    "\n",
    "The purpose of this notebook is to provide a template for data science use cases, primarily for exploration and self-education."
   ]
  },
  {
   "cell_type": "code",
   "execution_count": 3,
   "id": "75f5008c-3437-488e-ab9c-133ba6a8f3b4",
   "metadata": {},
   "outputs": [],
   "source": [
    "from pathlib import Path\n",
    "\n",
    "import matplotlib.pyplot as plt\n",
    "import numpy as np\n",
    "import pandas as pd\n",
    "import seaborn as sns\n",
    "#from ydata_profiling import ProfileReport"
   ]
  },
  {
   "cell_type": "markdown",
   "id": "830102f0-3846-4fc1-a4e4-d0e99fef9aec",
   "metadata": {},
   "source": [
    "# Explore and visualize data"
   ]
  },
  {
   "cell_type": "code",
   "execution_count": 4,
   "id": "d647978e-e980-4333-887e-bccea883eddd",
   "metadata": {},
   "outputs": [
    {
     "name": "stdout",
     "output_type": "stream",
     "text": [
      "(100, 7)\n"
     ]
    },
    {
     "data": {
      "text/html": [
       "<div>\n",
       "<style scoped>\n",
       "    .dataframe tbody tr th:only-of-type {\n",
       "        vertical-align: middle;\n",
       "    }\n",
       "\n",
       "    .dataframe tbody tr th {\n",
       "        vertical-align: top;\n",
       "    }\n",
       "\n",
       "    .dataframe thead th {\n",
       "        text-align: right;\n",
       "    }\n",
       "</style>\n",
       "<table border=\"1\" class=\"dataframe\">\n",
       "  <thead>\n",
       "    <tr style=\"text-align: right;\">\n",
       "      <th></th>\n",
       "      <th>a</th>\n",
       "      <th>b</th>\n",
       "      <th>c</th>\n",
       "      <th>d</th>\n",
       "      <th>e</th>\n",
       "      <th>f_ordinal</th>\n",
       "      <th>g_binary</th>\n",
       "    </tr>\n",
       "  </thead>\n",
       "  <tbody>\n",
       "    <tr>\n",
       "      <th>0</th>\n",
       "      <td>0.839609</td>\n",
       "      <td>0.210130</td>\n",
       "      <td>0.110910</td>\n",
       "      <td>0.430913</td>\n",
       "      <td>0.029364</td>\n",
       "      <td>1</td>\n",
       "      <td>False</td>\n",
       "    </tr>\n",
       "    <tr>\n",
       "      <th>1</th>\n",
       "      <td>0.793381</td>\n",
       "      <td>0.735738</td>\n",
       "      <td>0.838125</td>\n",
       "      <td>0.902572</td>\n",
       "      <td>0.466278</td>\n",
       "      <td>3</td>\n",
       "      <td>True</td>\n",
       "    </tr>\n",
       "    <tr>\n",
       "      <th>2</th>\n",
       "      <td>0.079223</td>\n",
       "      <td>0.768216</td>\n",
       "      <td>0.309530</td>\n",
       "      <td>0.180720</td>\n",
       "      <td>0.053637</td>\n",
       "      <td>1</td>\n",
       "      <td>True</td>\n",
       "    </tr>\n",
       "    <tr>\n",
       "      <th>3</th>\n",
       "      <td>0.752527</td>\n",
       "      <td>0.015389</td>\n",
       "      <td>0.423066</td>\n",
       "      <td>0.878907</td>\n",
       "      <td>0.820686</td>\n",
       "      <td>0</td>\n",
       "      <td>False</td>\n",
       "    </tr>\n",
       "    <tr>\n",
       "      <th>4</th>\n",
       "      <td>0.772704</td>\n",
       "      <td>0.206457</td>\n",
       "      <td>0.927798</td>\n",
       "      <td>0.933204</td>\n",
       "      <td>0.726008</td>\n",
       "      <td>2</td>\n",
       "      <td>True</td>\n",
       "    </tr>\n",
       "  </tbody>\n",
       "</table>\n",
       "</div>"
      ],
      "text/plain": [
       "          a         b         c         d         e  f_ordinal  g_binary\n",
       "0  0.839609  0.210130  0.110910  0.430913  0.029364          1     False\n",
       "1  0.793381  0.735738  0.838125  0.902572  0.466278          3      True\n",
       "2  0.079223  0.768216  0.309530  0.180720  0.053637          1      True\n",
       "3  0.752527  0.015389  0.423066  0.878907  0.820686          0     False\n",
       "4  0.772704  0.206457  0.927798  0.933204  0.726008          2      True"
      ]
     },
     "execution_count": 4,
     "metadata": {},
     "output_type": "execute_result"
    }
   ],
   "source": [
    "# df with continuous, ordinal, and binary variables\n",
    "nrows, ncols = 100, 5\n",
    "df = pd.DataFrame(np.random.rand(nrows, ncols), columns=[\"a\", \"b\", \"c\", \"d\", \"e\"]).assign(f_ordinal=np.random.choice([0,1,2,3], nrows), g_binary=np.random.choice([True, False], nrows))\n",
    "\n",
    "# Edit to read a saved file\n",
    "# df = pd.read_csv(Path('data', 'example_data.csv'))\n",
    "\n",
    "print(df.shape)\n",
    "df.head()"
   ]
  },
  {
   "cell_type": "code",
   "execution_count": 29,
   "id": "b8d20dfb-9875-4ce8-b82c-3d277a122b24",
   "metadata": {},
   "outputs": [],
   "source": [
    "# save data\n",
    "df.to_csv(Path('data', 'example_data.csv'), index=False)"
   ]
  },
  {
   "cell_type": "markdown",
   "id": "41b58f94-e074-4d1a-936b-8d0601dd8ee8",
   "metadata": {},
   "source": [
    "# Visualize data"
   ]
  },
  {
   "cell_type": "code",
   "execution_count": null,
   "id": "c8c47a95-abc2-4181-827c-dee64b795bda",
   "metadata": {},
   "outputs": [],
   "source": []
  }
 ],
 "metadata": {
  "kernelspec": {
   "display_name": "Python 3 (ipykernel)",
   "language": "python",
   "name": "python3"
  },
  "language_info": {
   "codemirror_mode": {
    "name": "ipython",
    "version": 3
   },
   "file_extension": ".py",
   "mimetype": "text/x-python",
   "name": "python",
   "nbconvert_exporter": "python",
   "pygments_lexer": "ipython3",
   "version": "3.10.15"
  }
 },
 "nbformat": 4,
 "nbformat_minor": 5
}
